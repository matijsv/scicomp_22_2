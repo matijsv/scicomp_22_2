{
 "cells": [
  {
   "cell_type": "code",
   "execution_count": null,
   "metadata": {},
   "outputs": [],
   "source": [
    "\n",
    "import src.alex.reaction_diffusion as rd\n",
    "import src.matijs.DLA as dla\n",
    "import src.matijs.analysis as diffdla_analysis\n",
    "import src.noa.metrics as metrics\n",
    "import matplotlib.pyplot as plt \n",
    "import numpy as np\n",
    "import pandas as pd"
   ]
  },
  {
   "cell_type": "markdown",
   "metadata": {},
   "source": [
    "# Part I"
   ]
  },
  {
   "cell_type": "code",
   "execution_count": null,
   "metadata": {},
   "outputs": [],
   "source": [
    "# Note this takes a few minutes to run, check results in report, not very interesting anyway\n",
    "print(\"Optimal omegas for each eta in a 100x100 grid\")\n",
    "print(\"Eta | Omega | SOR Iterations\")\n",
    "for eta in [0.5,0.75,1,1.25,1.5,1.7]:\n",
    "    omega, iters = diffdla_analysis.optimize_omega(100,100,eta)\n",
    "    print(f\"{eta} | {omega} | {iters}\")"
   ]
  },
  {
   "cell_type": "code",
   "execution_count": null,
   "metadata": {},
   "outputs": [],
   "source": [
    "# Visually comparing some different eta settings\n",
    "diffdla_analysis.plot_end(N=100,M=100,eta=0.5,omega=1.79,growth_iterations=500)\n",
    "diffdla_analysis.plot_end(N=100,M=100,eta=1,omega=1.79,growth_iterations=500)\n",
    "diffdla_analysis.plot_end(N=100,M=100,eta=1.5,omega=1.79,growth_iterations=500)"
   ]
  },
  {
   "cell_type": "code",
   "execution_count": null,
   "metadata": {},
   "outputs": [],
   "source": [
    "# Fractal dimension analysis, dont run this unless you want to listen to your laptop fan for 30 minutes\n",
    "# next cell plots pre-generated data\n",
    "etas = np.linspace(0.1, 2.2, 22)\n",
    "fractdims = []\n",
    "\n",
    "for eta in etas:\n",
    "    trial_fractdims = []\n",
    "    for _ in range(5):\n",
    "        material, _, _ = dla.dla(N=100, M=100, eta=eta, omega=1.77, growth_iterations=500)\n",
    "        fractdim = metrics.fractal_dimension(material[-1])\n",
    "        trial_fractdims.append(fractdim)\n",
    "    avg_fractdim = np.mean(trial_fractdims)\n",
    "    std_fractdim = np.std(trial_fractdims)\n",
    "    fractdims.append((eta, avg_fractdim, std_fractdim))\n",
    "\n",
    "# Convert to numpy array for easier indexing\n",
    "fractdims = np.array(fractdims)\n",
    "\n",
    "# Save to CSV\n",
    "df = pd.DataFrame(fractdims, columns=['Eta', 'Average Fractal Dimension', 'Standard Deviation'])\n",
    "df.to_csv('fig/fractal_dimensions.csv', index=False)"
   ]
  },
  {
   "cell_type": "code",
   "execution_count": null,
   "metadata": {},
   "outputs": [],
   "source": [
    "# Load the data from CSV\n",
    "df = pd.read_csv('fig/fractal_dimensions.csv')\n",
    "\n",
    "# Plotting\n",
    "plt.figure(dpi=300)\n",
    "plt.errorbar(df['Eta'], df['Average Fractal Dimension'], yerr=df['Standard Deviation'], fmt='o', capsize=5)\n",
    "plt.plot(df['Eta'], df['Average Fractal Dimension'])\n",
    "plt.xlabel(r'$\\eta$', fontsize=20)\n",
    "plt.ylabel('Fractal Dimension', fontsize=20)\n",
    "plt.xticks(fontsize=20)\n",
    "plt.yticks(fontsize=20)\n",
    "plt.show()\n",
    "plt.savefig('fig/dla_fractal_dimensions.png')"
   ]
  },
  {
   "cell_type": "code",
   "execution_count": null,
   "metadata": {},
   "outputs": [],
   "source": [
    "# Larger grid sizes - takes 40s to run - gets stuck sometimes, interrupt and restart if needed.\n",
    "# pre-generated image saved under fig/largeDLA.png\n",
    "diffdla_analysis.plot_end(N=100,M=100,eta=1,omega=1.79,growth_iterations=500)\n",
    "diffdla_analysis.plot_end(N=200,M=200,eta=1,omega=1.79,growth_iterations=2000)"
   ]
  },
  {
   "cell_type": "markdown",
   "metadata": {},
   "source": [
    "# Part II"
   ]
  },
  {
   "cell_type": "code",
   "execution_count": null,
   "metadata": {},
   "outputs": [],
   "source": [
    "# your presentation code here"
   ]
  },
  {
   "cell_type": "markdown",
   "metadata": {},
   "source": [
    "# Part III"
   ]
  },
  {
   "cell_type": "code",
   "execution_count": null,
   "metadata": {},
   "outputs": [],
   "source": [
    "# plot_html is for ipynb animation showing\n",
    "rd.reset_global_UV()\n",
    "rd.plot_html(boundary_condition=\"PBC\", observed_variable = \"V\", f_value = 0.022, k_value = 0.051)"
   ]
  },
  {
   "cell_type": "code",
   "execution_count": null,
   "metadata": {},
   "outputs": [],
   "source": [
    "# plot_html is for ipynb animation showing\n",
    "rd.reset_global_UV()\n",
    "rd.plot_html(boundary_condition=\"PBC\", observed_variable = \"V\", f_value = 0.030, k_value = 0.060)"
   ]
  },
  {
   "cell_type": "code",
   "execution_count": null,
   "metadata": {},
   "outputs": [],
   "source": [
    "# plot_html is for ipynb animation showing\n",
    "rd.reset_global_UV()\n",
    "rd.plot_html(boundary_condition=\"PBC\", observed_variable = \"V\", f_value = 0.047, k_value = 0.063)"
   ]
  },
  {
   "cell_type": "code",
   "execution_count": null,
   "metadata": {},
   "outputs": [],
   "source": [
    "# plot_animation is for saving the animation as a mp4 in the fig folder\n",
    "\n",
    "# f = 0.022, k = 0.051\n",
    "# f = 0.030, k = 0.060\n",
    "# f = 0.047, k = 0.063\n",
    "fkSet = [\n",
    "    {0.022, 0.051},\n",
    "    {0.030, 0.060},\n",
    "    {0.047, 0.063}\n",
    "    ]\n",
    "\n",
    "for v in fkSet:\n",
    "    f = v.pop()\n",
    "    k = v.pop()\n",
    "    \n",
    "    # periodic boundary condition\n",
    "    rd.plot_animation(\"PBC\", observed_variable = \"V\", f_value = f, k_value = k)\n",
    "\n",
    "    # Dirichlet boundary condition\n",
    "    rd.plot_animation(\"Dirichlet Strong\", observed_variable = \"V\", f_value = f, k_value = k)"
   ]
  },
  {
   "cell_type": "code",
   "execution_count": null,
   "metadata": {},
   "outputs": [],
   "source": []
  }
 ],
 "metadata": {
  "kernelspec": {
   "display_name": "CLS",
   "language": "python",
   "name": "python3"
  },
  "language_info": {
   "codemirror_mode": {
    "name": "ipython",
    "version": 3
   },
   "file_extension": ".py",
   "mimetype": "text/x-python",
   "name": "python",
   "nbconvert_exporter": "python",
   "pygments_lexer": "ipython3",
   "version": "3.12.4"
  }
 },
 "nbformat": 4,
 "nbformat_minor": 2
}
