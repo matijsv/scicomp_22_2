{
 "cells": [
  {
   "cell_type": "code",
   "execution_count": null,
   "metadata": {},
   "outputs": [],
   "source": [
    "import src.alex.reaction_diffusion as rd\n",
    "import src.matijs.DLA as dla_matijs\n",
    "import src.matijs.analysis as diffdla_analysis\n",
    "import src.noa.metrics as metrics\n",
    "import matplotlib.pyplot as plt \n",
    "import numpy as np\n",
    "import src.noa.monte_carlo_DLA as dla\n",
    "import pandas as pd"
   ]
  },
  {
   "cell_type": "markdown",
   "metadata": {},
   "source": [
    "# Part I"
   ]
  },
  {
   "cell_type": "code",
   "execution_count": null,
   "metadata": {},
   "outputs": [],
   "source": [
    "# Note this takes a few minutes to run, check results in report, not very interesting anyway\n",
    "print(\"Optimal omegas for each eta in a 100x100 grid\")\n",
    "print(\"Eta | Omega | SOR Iterations\")\n",
    "for eta in [0.5,0.75,1,1.25,1.5,1.7]:\n",
    "    omega, iters = diffdla_analysis.optimize_omega(100,100,eta)\n",
    "    print(f\"{eta} | {omega} | {iters}\")"
   ]
  },
  {
   "cell_type": "code",
   "execution_count": null,
   "metadata": {},
   "outputs": [],
   "source": [
    "diffdla_analysis.plot_end(N=100,M=100,eta=0.5,omega=1.77,growth_iterations=500)\n",
    "diffdla_analysis.plot_end(N=100,M=100,eta=1,omega=1.78,growth_iterations=500)\n",
    "diffdla_analysis.plot_end(N=100,M=100,eta=1.5,omega=1.9,growth_iterations=500)"
   ]
  },
  {
   "cell_type": "code",
   "execution_count": null,
   "metadata": {},
   "outputs": [],
   "source": [
    "# fractal dimension calculation \n",
    "etas = np.linspace(0.1, 2.2, 22)\n",
    "fractdims = []\n",
    "\n",
    "for eta in etas:\n",
    "    trial_fractdims = []\n",
    "    for _ in range(5):\n",
    "        material, _, _ = dla_matijs.dla(N=100, M=100, eta=eta, omega=1.77, growth_iterations=500)\n",
    "        fractdim = metrics.fractal_dimension(material[-1])\n",
    "        trial_fractdims.append(fractdim)\n",
    "    avg_fractdim = np.mean(trial_fractdims)\n",
    "    std_fractdim = np.std(trial_fractdims)\n",
    "    fractdims.append((eta, avg_fractdim, std_fractdim))\n",
    "\n",
    "# Convert to numpy array for easier indexing\n",
    "fractdims = np.array(fractdims)\n",
    "\n",
    "# Save to CSV\n",
    "df = pd.DataFrame(fractdims, columns=['Eta', 'Average Fractal Dimension', 'Standard Deviation'])\n",
    "df.to_csv('fig/fractal_dimensions.csv', index=False)"
   ]
  },
  {
   "cell_type": "code",
   "execution_count": null,
   "metadata": {},
   "outputs": [],
   "source": [
    "# Load the data from CSV\n",
    "df = pd.read_csv('fig/fractal_dimensions.csv')\n",
    "\n",
    "# Plotting\n",
    "plt.figure(dpi=300)\n",
    "plt.errorbar(df['Eta'], df['Average Fractal Dimension'], yerr=df['Standard Deviation'], fmt='o', capsize=5)\n",
    "plt.plot(df['Eta'], df['Average Fractal Dimension'])\n",
    "plt.xlabel(r'$\\eta$', fontsize=20)\n",
    "plt.ylabel('Fractal Dimension', fontsize=20)\n",
    "plt.xticks(fontsize=20)\n",
    "plt.yticks(fontsize=20)\n",
    "plt.show()\n",
    "plt.savefig('fig/dla_fractal_dimensions.png')"
   ]
  },
  {
   "cell_type": "markdown",
   "metadata": {},
   "source": [
    "# Part II"
   ]
  },
  {
   "cell_type": "code",
   "execution_count": null,
   "metadata": {},
   "outputs": [],
   "source": [
    "height, width = 100, 100\n",
    "num_particles = 800\n",
    "dla.plot_dla(height, width, num_particles)"
   ]
  },
  {
   "cell_type": "code",
   "execution_count": null,
   "metadata": {},
   "outputs": [],
   "source": [
    "# sticking probabilities\n",
    "ps = [0.05,0.1,0.2,0.3,0.4,0.5,0.6,0.7,0.8,0.9,1]\n",
    "N = 25\n",
    "\n",
    "# plot metrics to compare resulting clusters the sticking probabilities\n",
    "\n",
    "dla.generate_cluster_data(height,width,num_particles,ps, N)\n",
    "rgs, rgs_std, fractal_dims, fractal_dims_std = dla.data_analysis(ps,N)\n",
    "dla.plot_data_analysis(ps, rgs, rgs_std, fractal_dims, fractal_dims_std)"
   ]
  },
  {
   "cell_type": "markdown",
   "metadata": {},
   "source": [
    "# Part III"
   ]
  },
  {
   "cell_type": "code",
   "execution_count": null,
   "metadata": {},
   "outputs": [],
   "source": [
    "# plot_html is for ipynb animation showing\n",
    "rd.reset_global_UV()\n",
    "rd.plot_html(boundary_condition=\"PBC\", observed_variable = \"V\", f_value = 0.022, k_value = 0.051)"
   ]
  },
  {
   "cell_type": "code",
   "execution_count": null,
   "metadata": {},
   "outputs": [],
   "source": [
    "# plot_html is for ipynb animation showing\n",
    "rd.reset_global_UV()\n",
    "rd.plot_html(boundary_condition=\"PBC\", observed_variable = \"V\", f_value = 0.030, k_value = 0.060)"
   ]
  },
  {
   "cell_type": "code",
   "execution_count": null,
   "metadata": {},
   "outputs": [],
   "source": [
    "# plot_html is for ipynb animation showing\n",
    "rd.reset_global_UV()\n",
    "rd.plot_html(boundary_condition=\"PBC\", observed_variable = \"V\", f_value = 0.047, k_value = 0.063)"
   ]
  },
  {
   "cell_type": "code",
   "execution_count": null,
   "metadata": {},
   "outputs": [],
   "source": [
    "# plot_animation is for saving the animation as a mp4 in the fig folder\n",
    "\n",
    "# f = 0.022, k = 0.051\n",
    "# f = 0.030, k = 0.060\n",
    "# f = 0.047, k = 0.063\n",
    "fkSet = [\n",
    "    {0.022, 0.051},\n",
    "    {0.030, 0.060},\n",
    "    {0.047, 0.063}\n",
    "    ]\n",
    "\n",
    "for v in fkSet:\n",
    "    f = v.pop()\n",
    "    k = v.pop()\n",
    "    \n",
    "    # periodic boundary condition\n",
    "    rd.plot_animation(\"PBC\", observed_variable = \"V\", f_value = f, k_value = k)\n",
    "\n",
    "    # Dirichlet boundary condition\n",
    "    rd.plot_animation(\"Dirichlet Strong\", observed_variable = \"V\", f_value = f, k_value = k)"
   ]
  }
 ],
 "metadata": {
  "kernelspec": {
   "display_name": "zxx",
   "language": "python",
   "name": "python3"
  },
  "language_info": {
   "codemirror_mode": {
    "name": "ipython",
    "version": 3
   },
   "file_extension": ".py",
   "mimetype": "text/x-python",
   "name": "python",
   "nbconvert_exporter": "python",
   "pygments_lexer": "ipython3",
   "version": "3.13.1"
  }
 },
 "nbformat": 4,
 "nbformat_minor": 2
}
