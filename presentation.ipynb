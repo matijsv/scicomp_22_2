{
 "cells": [
  {
   "cell_type": "code",
   "execution_count": null,
   "metadata": {},
   "outputs": [],
   "source": [
    "import src.alex.reaction_diffusion as rd\n",
    "import src.noa.monte_carlo_DLA as dla"
   ]
  },
  {
   "cell_type": "markdown",
   "metadata": {},
   "source": [
    "# Part I"
   ]
  },
  {
   "cell_type": "code",
   "execution_count": null,
   "metadata": {},
   "outputs": [],
   "source": []
  },
  {
   "cell_type": "code",
   "execution_count": null,
   "metadata": {},
   "outputs": [],
   "source": []
  },
  {
   "cell_type": "markdown",
   "metadata": {},
   "source": [
    "# Part II"
   ]
  },
  {
   "cell_type": "code",
   "execution_count": null,
   "metadata": {},
   "outputs": [],
   "source": [
    "height, width = 100, 100\n",
    "num_particles = 800\n",
    "dla.plot_dla(height, width, num_particles)"
   ]
  },
  {
   "cell_type": "code",
   "execution_count": null,
   "metadata": {},
   "outputs": [],
   "source": [
    "# sticking probabilities\n",
    "ps = [0.05,0.1,0.2,0.3,0.4,0.5,0.6,0.7,0.8,0.9,1]\n",
    "N = 25\n",
    "\n",
    "# plot metrics to compare resulting clusters the sticking probabilities\n",
    "\n",
    "dla.generate_cluster_data(height,width,num_particles,ps, N)\n",
    "rgs, rgs_std, fractal_dims, fractal_dims_std = dla.data_analysis(ps,N)\n",
    "dla.plot_data_analysis(ps, rgs, rgs_std, fractal_dims, fractal_dims_std)"
   ]
  },
  {
   "cell_type": "markdown",
   "metadata": {},
   "source": [
    "# Part III"
   ]
  },
  {
   "cell_type": "code",
   "execution_count": null,
   "metadata": {},
   "outputs": [],
   "source": [
    "# plot_html is for ipynb animation showing\n",
    "rd.reset_global_UV()\n",
    "rd.plot_html(boundary_condition=\"PBC\", observed_variable = \"V\", f_value = 0.022, k_value = 0.051)"
   ]
  },
  {
   "cell_type": "code",
   "execution_count": null,
   "metadata": {},
   "outputs": [],
   "source": [
    "# plot_html is for ipynb animation showing\n",
    "rd.reset_global_UV()\n",
    "rd.plot_html(boundary_condition=\"PBC\", observed_variable = \"V\", f_value = 0.030, k_value = 0.060)"
   ]
  },
  {
   "cell_type": "code",
   "execution_count": null,
   "metadata": {},
   "outputs": [],
   "source": [
    "# plot_html is for ipynb animation showing\n",
    "rd.reset_global_UV()\n",
    "rd.plot_html(boundary_condition=\"PBC\", observed_variable = \"V\", f_value = 0.047, k_value = 0.063)"
   ]
  },
  {
   "cell_type": "code",
   "execution_count": null,
   "metadata": {},
   "outputs": [],
   "source": [
    "# plot_animation is for saving the animation as a mp4 in the fig folder\n",
    "\n",
    "# f = 0.022, k = 0.051\n",
    "# f = 0.030, k = 0.060\n",
    "# f = 0.047, k = 0.063\n",
    "fkSet = [\n",
    "    {0.022, 0.051},\n",
    "    {0.030, 0.060},\n",
    "    {0.047, 0.063}\n",
    "    ]\n",
    "\n",
    "for v in fkSet:\n",
    "    f = v.pop()\n",
    "    k = v.pop()\n",
    "    \n",
    "    # periodic boundary condition\n",
    "    rd.plot_animation(\"PBC\", observed_variable = \"V\", f_value = f, k_value = k)\n",
    "\n",
    "    # Dirichlet boundary condition\n",
    "    rd.plot_animation(\"Dirichlet Strong\", observed_variable = \"V\", f_value = f, k_value = k)"
   ]
  },
  {
   "cell_type": "code",
   "execution_count": null,
   "metadata": {},
   "outputs": [],
   "source": []
  }
 ],
 "metadata": {
  "kernelspec": {
   "display_name": "Python 3",
   "language": "python",
   "name": "python3"
  },
  "language_info": {
   "codemirror_mode": {
    "name": "ipython",
    "version": 3
   },
   "file_extension": ".py",
   "mimetype": "text/x-python",
   "name": "python",
   "nbconvert_exporter": "python",
   "pygments_lexer": "ipython3",
   "version": "3.9.6"
  }
 },
 "nbformat": 4,
 "nbformat_minor": 2
}
